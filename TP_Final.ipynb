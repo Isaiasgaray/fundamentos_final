{
 "cells": [
  {
   "cell_type": "markdown",
   "id": "be325f09-88c6-4a7b-9732-a40bebf5dc8b",
   "metadata": {
    "tags": []
   },
   "source": [
    "# Descarga de datos"
   ]
  },
  {
   "cell_type": "code",
   "execution_count": 10,
   "id": "f4a3dfeb-6234-4d9f-8a8f-9a55c41fe874",
   "metadata": {},
   "outputs": [],
   "source": [
    "import datetime, requests, os\n",
    "\n",
    "def descargar_datos():\n",
    "    URL_BASE = \\\n",
    "        'https://ssl.smn.gob.ar/dpd/descarga_opendata.php?file=observaciones/' \n",
    "\n",
    "    fecha_actual = datetime.date.today()\n",
    "    un_dia       = datetime.timedelta(days=1)\n",
    "\n",
    "    ANIO_INICIO = fecha_actual.year - 1\n",
    "    MES_INICIO  = fecha_actual.month\n",
    "    DIA_INICIO  = fecha_actual.day \n",
    "\n",
    "    fecha_inicio = datetime.date(ANIO_INICIO, MES_INICIO, DIA_INICIO)\n",
    "    \n",
    "    f = open('datasets/datos.csv', 'w')\n",
    "\n",
    "    f.write('fecha,hora,temp_c,hum_per,pnm_hpa,dd_gr,ff_kmh,nombre\\n')\n",
    "\n",
    "    while fecha_inicio < fecha_actual:\n",
    "        r = requests.get(\n",
    "            URL_BASE + \n",
    "            f'datohorario{fecha_inicio.year}{fecha_inicio.month:02}{fecha_inicio.day:02}.txt'\n",
    "        )\n",
    "\n",
    "        for line in r.iter_lines(decode_unicode='utf8'):\n",
    "            if line.startswith((' ', 'F', 'o')):\n",
    "                continue\n",
    "                \n",
    "            dato = ','.join(f'{line}\\n'.split(maxsplit=7))\n",
    "            \n",
    "            if dato.count(',') != 7:\n",
    "                continue\n",
    "            \n",
    "            f.write(dato)\n",
    "\n",
    "        fecha_inicio += un_dia\n",
    "\n",
    "    f.close()\n",
    "    \n",
    "if not os.path.exists('datasets/datos.csv'):\n",
    "    descargar_datos()"
   ]
  },
  {
   "cell_type": "markdown",
   "id": "3723d02b-7a41-4182-9f58-573125a8fde5",
   "metadata": {},
   "source": [
    "# Limpieza de datos"
   ]
  },
  {
   "cell_type": "code",
   "execution_count": 11,
   "id": "6096a087-c5a8-438c-b446-c6bc5bd7a806",
   "metadata": {},
   "outputs": [],
   "source": [
    "import pandas as pd"
   ]
  },
  {
   "cell_type": "code",
   "execution_count": 12,
   "id": "d33eec62-a3d1-4327-9172-23c63520814c",
   "metadata": {},
   "outputs": [
    {
     "name": "stderr",
     "output_type": "stream",
     "text": [
      "/tmp/ipykernel_117646/1047190064.py:1: DtypeWarning: Columns (2,3,4) have mixed types. Specify dtype option on import or set low_memory=False.\n",
      "  datos = pd.read_csv('datasets/datos.csv')\n"
     ]
    }
   ],
   "source": [
    "datos = pd.read_csv('datasets/datos.csv')"
   ]
  },
  {
   "cell_type": "code",
   "execution_count": 13,
   "id": "e6ea938b-8c1b-4b05-ba67-f8a73512a10a",
   "metadata": {},
   "outputs": [],
   "source": [
    "datos_filtrados = datos[~datos.ff_kmh.astype(str).str.isalpha()]"
   ]
  },
  {
   "cell_type": "code",
   "execution_count": 15,
   "id": "4a95fbcb-d510-4d50-a1c1-3d7ae30aff7a",
   "metadata": {},
   "outputs": [
    {
     "name": "stdout",
     "output_type": "stream",
     "text": [
      "<class 'pandas.core.frame.DataFrame'>\n",
      "Int64Index: 769505 entries, 0 to 771499\n",
      "Data columns (total 8 columns):\n",
      " #   Column   Non-Null Count   Dtype \n",
      "---  ------   --------------   ----- \n",
      " 0   fecha    769505 non-null  int64 \n",
      " 1   hora     769505 non-null  int64 \n",
      " 2   temp_c   769505 non-null  object\n",
      " 3   hum_per  769505 non-null  object\n",
      " 4   pnm_hpa  769505 non-null  object\n",
      " 5   dd_gr    769505 non-null  object\n",
      " 6   ff_kmh   769505 non-null  object\n",
      " 7   nombre   769505 non-null  object\n",
      "dtypes: int64(2), object(6)\n",
      "memory usage: 52.8+ MB\n"
     ]
    }
   ],
   "source": [
    "datos_filtrados.info()"
   ]
  },
  {
   "cell_type": "code",
   "execution_count": 16,
   "id": "c94e45d0-9a76-44c3-9966-b1198cda87c9",
   "metadata": {},
   "outputs": [
    {
     "data": {
      "text/html": [
       "<div>\n",
       "<style scoped>\n",
       "    .dataframe tbody tr th:only-of-type {\n",
       "        vertical-align: middle;\n",
       "    }\n",
       "\n",
       "    .dataframe tbody tr th {\n",
       "        vertical-align: top;\n",
       "    }\n",
       "\n",
       "    .dataframe thead th {\n",
       "        text-align: right;\n",
       "    }\n",
       "</style>\n",
       "<table border=\"1\" class=\"dataframe\">\n",
       "  <thead>\n",
       "    <tr style=\"text-align: right;\">\n",
       "      <th></th>\n",
       "      <th>fecha</th>\n",
       "      <th>hora</th>\n",
       "      <th>temp_c</th>\n",
       "      <th>hum_per</th>\n",
       "      <th>pnm_hpa</th>\n",
       "      <th>dd_gr</th>\n",
       "      <th>ff_kmh</th>\n",
       "      <th>nombre</th>\n",
       "    </tr>\n",
       "  </thead>\n",
       "  <tbody>\n",
       "    <tr>\n",
       "      <th>0</th>\n",
       "      <td>7062022</td>\n",
       "      <td>0</td>\n",
       "      <td>10.2</td>\n",
       "      <td>100.0</td>\n",
       "      <td>1018.0</td>\n",
       "      <td>0</td>\n",
       "      <td>0</td>\n",
       "      <td>AEROPARQUE AERO                               ...</td>\n",
       "    </tr>\n",
       "    <tr>\n",
       "      <th>1</th>\n",
       "      <td>7062022</td>\n",
       "      <td>1</td>\n",
       "      <td>9.9</td>\n",
       "      <td>100.0</td>\n",
       "      <td>1017.3</td>\n",
       "      <td>260</td>\n",
       "      <td>2</td>\n",
       "      <td>AEROPARQUE AERO                               ...</td>\n",
       "    </tr>\n",
       "    <tr>\n",
       "      <th>2</th>\n",
       "      <td>7062022</td>\n",
       "      <td>2</td>\n",
       "      <td>9.2</td>\n",
       "      <td>100.0</td>\n",
       "      <td>1016.9</td>\n",
       "      <td>0</td>\n",
       "      <td>0</td>\n",
       "      <td>AEROPARQUE AERO                               ...</td>\n",
       "    </tr>\n",
       "    <tr>\n",
       "      <th>3</th>\n",
       "      <td>7062022</td>\n",
       "      <td>3</td>\n",
       "      <td>9.7</td>\n",
       "      <td>100.0</td>\n",
       "      <td>1016.8</td>\n",
       "      <td>300</td>\n",
       "      <td>6</td>\n",
       "      <td>AEROPARQUE AERO                               ...</td>\n",
       "    </tr>\n",
       "    <tr>\n",
       "      <th>4</th>\n",
       "      <td>7062022</td>\n",
       "      <td>4</td>\n",
       "      <td>9.4</td>\n",
       "      <td>100.0</td>\n",
       "      <td>1016.6</td>\n",
       "      <td>330</td>\n",
       "      <td>11</td>\n",
       "      <td>AEROPARQUE AERO                               ...</td>\n",
       "    </tr>\n",
       "  </tbody>\n",
       "</table>\n",
       "</div>"
      ],
      "text/plain": [
       "     fecha  hora temp_c hum_per pnm_hpa dd_gr ff_kmh  \\\n",
       "0  7062022     0   10.2   100.0  1018.0     0      0   \n",
       "1  7062022     1    9.9   100.0  1017.3   260      2   \n",
       "2  7062022     2    9.2   100.0  1016.9     0      0   \n",
       "3  7062022     3    9.7   100.0  1016.8   300      6   \n",
       "4  7062022     4    9.4   100.0  1016.6   330     11   \n",
       "\n",
       "                                              nombre  \n",
       "0  AEROPARQUE AERO                               ...  \n",
       "1  AEROPARQUE AERO                               ...  \n",
       "2  AEROPARQUE AERO                               ...  \n",
       "3  AEROPARQUE AERO                               ...  \n",
       "4  AEROPARQUE AERO                               ...  "
      ]
     },
     "execution_count": 16,
     "metadata": {},
     "output_type": "execute_result"
    }
   ],
   "source": [
    "datos_filtrados.head()"
   ]
  },
  {
   "cell_type": "code",
   "execution_count": 17,
   "id": "a4ff4473-957a-4282-89ea-d295c8b889ea",
   "metadata": {},
   "outputs": [
    {
     "data": {
      "text/html": [
       "<div>\n",
       "<style scoped>\n",
       "    .dataframe tbody tr th:only-of-type {\n",
       "        vertical-align: middle;\n",
       "    }\n",
       "\n",
       "    .dataframe tbody tr th {\n",
       "        vertical-align: top;\n",
       "    }\n",
       "\n",
       "    .dataframe thead th {\n",
       "        text-align: right;\n",
       "    }\n",
       "</style>\n",
       "<table border=\"1\" class=\"dataframe\">\n",
       "  <thead>\n",
       "    <tr style=\"text-align: right;\">\n",
       "      <th></th>\n",
       "      <th>fecha</th>\n",
       "      <th>hora</th>\n",
       "      <th>temp_c</th>\n",
       "      <th>hum_per</th>\n",
       "      <th>pnm_hpa</th>\n",
       "      <th>dd_gr</th>\n",
       "      <th>ff_kmh</th>\n",
       "      <th>nombre</th>\n",
       "    </tr>\n",
       "  </thead>\n",
       "  <tbody>\n",
       "    <tr>\n",
       "      <th>771495</th>\n",
       "      <td>6062023</td>\n",
       "      <td>19</td>\n",
       "      <td>18.0</td>\n",
       "      <td>72.0</td>\n",
       "      <td>1011.1</td>\n",
       "      <td>0</td>\n",
       "      <td>0</td>\n",
       "      <td>VILLA REYNOLDS AERO                           ...</td>\n",
       "    </tr>\n",
       "    <tr>\n",
       "      <th>771496</th>\n",
       "      <td>6062023</td>\n",
       "      <td>20</td>\n",
       "      <td>17.5</td>\n",
       "      <td>74.0</td>\n",
       "      <td>1012.6</td>\n",
       "      <td>320</td>\n",
       "      <td>4</td>\n",
       "      <td>VILLA REYNOLDS AERO                           ...</td>\n",
       "    </tr>\n",
       "    <tr>\n",
       "      <th>771497</th>\n",
       "      <td>6062023</td>\n",
       "      <td>21</td>\n",
       "      <td>16.0</td>\n",
       "      <td>74.0</td>\n",
       "      <td>1014.7</td>\n",
       "      <td>270</td>\n",
       "      <td>4</td>\n",
       "      <td>VILLA REYNOLDS AERO                           ...</td>\n",
       "    </tr>\n",
       "    <tr>\n",
       "      <th>771498</th>\n",
       "      <td>6062023</td>\n",
       "      <td>22</td>\n",
       "      <td>15.0</td>\n",
       "      <td>81.0</td>\n",
       "      <td>1015.0</td>\n",
       "      <td>230</td>\n",
       "      <td>9</td>\n",
       "      <td>VILLA REYNOLDS AERO                           ...</td>\n",
       "    </tr>\n",
       "    <tr>\n",
       "      <th>771499</th>\n",
       "      <td>6062023</td>\n",
       "      <td>23</td>\n",
       "      <td>15.8</td>\n",
       "      <td>76.0</td>\n",
       "      <td>1015.6</td>\n",
       "      <td>140</td>\n",
       "      <td>22</td>\n",
       "      <td>VILLA REYNOLDS AERO                           ...</td>\n",
       "    </tr>\n",
       "  </tbody>\n",
       "</table>\n",
       "</div>"
      ],
      "text/plain": [
       "          fecha  hora temp_c hum_per pnm_hpa dd_gr ff_kmh  \\\n",
       "771495  6062023    19   18.0    72.0  1011.1     0      0   \n",
       "771496  6062023    20   17.5    74.0  1012.6   320      4   \n",
       "771497  6062023    21   16.0    74.0  1014.7   270      4   \n",
       "771498  6062023    22   15.0    81.0  1015.0   230      9   \n",
       "771499  6062023    23   15.8    76.0  1015.6   140     22   \n",
       "\n",
       "                                                   nombre  \n",
       "771495  VILLA REYNOLDS AERO                           ...  \n",
       "771496  VILLA REYNOLDS AERO                           ...  \n",
       "771497  VILLA REYNOLDS AERO                           ...  \n",
       "771498  VILLA REYNOLDS AERO                           ...  \n",
       "771499  VILLA REYNOLDS AERO                           ...  "
      ]
     },
     "execution_count": 17,
     "metadata": {},
     "output_type": "execute_result"
    }
   ],
   "source": [
    "datos_filtrados.tail()"
   ]
  },
  {
   "cell_type": "markdown",
   "id": "a01136d2-53af-4ed5-abe4-4e95ceeb3f23",
   "metadata": {},
   "source": [
    "# Exploración de datos"
   ]
  }
 ],
 "metadata": {
  "kernelspec": {
   "display_name": "Python 3 (ipykernel)",
   "language": "python",
   "name": "python3"
  },
  "language_info": {
   "codemirror_mode": {
    "name": "ipython",
    "version": 3
   },
   "file_extension": ".py",
   "mimetype": "text/x-python",
   "name": "python",
   "nbconvert_exporter": "python",
   "pygments_lexer": "ipython3",
   "version": "3.10.6"
  }
 },
 "nbformat": 4,
 "nbformat_minor": 5
}
