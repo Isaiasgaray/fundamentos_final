{
 "cells": [
  {
   "cell_type": "markdown",
   "id": "be325f09-88c6-4a7b-9732-a40bebf5dc8b",
   "metadata": {
    "tags": []
   },
   "source": [
    "# Descarga de datos"
   ]
  },
  {
   "cell_type": "code",
   "execution_count": 10,
   "id": "f4a3dfeb-6234-4d9f-8a8f-9a55c41fe874",
   "metadata": {},
   "outputs": [],
   "source": [
    "import datetime, requests, os\n",
    "\n",
    "def descargar_datos():\n",
    "    URL_BASE = \\\n",
    "        'https://ssl.smn.gob.ar/dpd/descarga_opendata.php?file=observaciones/' \n",
    "\n",
    "    fecha_actual = datetime.date.today()\n",
    "    un_dia       = datetime.timedelta(days=1)\n",
    "\n",
    "    ANIO_INICIO = fecha_actual.year - 1\n",
    "    MES_INICIO  = fecha_actual.month\n",
    "    DIA_INICIO  = fecha_actual.day \n",
    "\n",
    "    fecha_inicio = datetime.date(ANIO_INICIO, MES_INICIO, DIA_INICIO)\n",
    "    \n",
    "    f = open('datasets/datos.csv', 'w')\n",
    "\n",
    "    f.write('fecha,hora,temp_c,hum_per,pnm_hpa,dd_gr,ff_kmh,nombre\\n')\n",
    "\n",
    "    while fecha_inicio < fecha_actual:\n",
    "        r = requests.get(\n",
    "            URL_BASE + \n",
    "            f'datohorario{fecha_inicio.year}{fecha_inicio.month:02}{fecha_inicio.day:02}.txt'\n",
    "        )\n",
    "\n",
    "        for line in r.iter_lines(decode_unicode='utf8'):\n",
    "            if line.startswith((' ', 'F', 'o')):\n",
    "                continue\n",
    "                \n",
    "            dato = ','.join(f'{line}\\n'.split(maxsplit=7))\n",
    "            \n",
    "            if dato.count(',') != 7:\n",
    "                continue\n",
    "            \n",
    "            f.write(dato)\n",
    "\n",
    "        fecha_inicio += un_dia\n",
    "\n",
    "    f.close()\n",
    "    \n",
    "if not os.path.exists('datasets/datos.csv'):\n",
    "    descargar_datos()"
   ]
  },
  {
   "cell_type": "markdown",
   "id": "a01136d2-53af-4ed5-abe4-4e95ceeb3f23",
   "metadata": {},
   "source": [
    "# Exploración de datos"
   ]
  }
 ],
 "metadata": {
  "kernelspec": {
   "display_name": "Python 3 (ipykernel)",
   "language": "python",
   "name": "python3"
  },
  "language_info": {
   "codemirror_mode": {
    "name": "ipython",
    "version": 3
   },
   "file_extension": ".py",
   "mimetype": "text/x-python",
   "name": "python",
   "nbconvert_exporter": "python",
   "pygments_lexer": "ipython3",
   "version": "3.10.6"
  }
 },
 "nbformat": 4,
 "nbformat_minor": 5
}
