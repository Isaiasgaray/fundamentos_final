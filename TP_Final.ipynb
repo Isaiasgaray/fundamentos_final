{
 "cells": [
  {
   "cell_type": "markdown",
   "id": "a01136d2-53af-4ed5-abe4-4e95ceeb3f23",
   "metadata": {},
   "source": [
    "# Exploración de datos"
   ]
  },
  {
   "cell_type": "code",
   "execution_count": 120,
   "id": "6e7a4090-fc7f-4716-a3b0-29a6ae794d71",
   "metadata": {},
   "outputs": [],
   "source": [
    "import pandas as pd\n",
    "import numpy as np\n",
    "import matplotlib.pyplot as plt"
   ]
  },
  {
   "cell_type": "code",
   "execution_count": 53,
   "id": "507af2f8-f7e2-42cc-a0f4-cccb98fc0f2d",
   "metadata": {},
   "outputs": [],
   "source": [
    "precios_gas        = pd.read_csv('datasets/precios-gas-natural.csv')\n",
    "precios_materiales = pd.read_csv('datasets/precios-materiales-construccion.csv')"
   ]
  },
  {
   "cell_type": "code",
   "execution_count": 54,
   "id": "5b7d6442-3e4a-469e-9d74-c4e01de12088",
   "metadata": {},
   "outputs": [],
   "source": [
    "precios_materiales.rename(\n",
    "    columns={\n",
    "        'Año': 'anio',\n",
    "        'Mes': 'mes',\n",
    "        'id_Rubro': 'id_rubro',\n",
    "        'Rubro': 'rubro',\n",
    "        'variación mensual': 'variacion_mensual'\n",
    "    },\n",
    "    inplace=True\n",
    ")   "
   ]
  },
  {
   "cell_type": "code",
   "execution_count": 14,
   "id": "0ae4681c-a074-4589-95e7-6980c61cc4eb",
   "metadata": {},
   "outputs": [
    {
     "name": "stdout",
     "output_type": "stream",
     "text": [
      "<class 'pandas.core.frame.DataFrame'>\n",
      "RangeIndex: 884 entries, 0 to 883\n",
      "Data columns (total 6 columns):\n",
      " #   Column             Non-Null Count  Dtype  \n",
      "---  ------             --------------  -----  \n",
      " 0   anio               884 non-null    int64  \n",
      " 1   mes                884 non-null    int64  \n",
      " 2   id_rubro           884 non-null    int64  \n",
      " 3   rubro              884 non-null    object \n",
      " 4   indice             884 non-null    float64\n",
      " 5   variacion_mensual  884 non-null    float64\n",
      "dtypes: float64(2), int64(3), object(1)\n",
      "memory usage: 41.6+ KB\n"
     ]
    }
   ],
   "source": [
    "precios_materiales.info()"
   ]
  },
  {
   "cell_type": "code",
   "execution_count": 15,
   "id": "32e9e06a-a23f-4f00-bd05-07ffad33ff29",
   "metadata": {},
   "outputs": [
    {
     "name": "stdout",
     "output_type": "stream",
     "text": [
      "<class 'pandas.core.frame.DataFrame'>\n",
      "RangeIndex: 936 entries, 0 to 935\n",
      "Data columns (total 13 columns):\n",
      " #   Column                Non-Null Count  Dtype  \n",
      "---  ------                --------------  -----  \n",
      " 0   id_pub                936 non-null    int64  \n",
      " 1   anio                  936 non-null    int64  \n",
      " 2   mes                   936 non-null    int64  \n",
      " 3   cuenca                936 non-null    object \n",
      " 4   contrato              936 non-null    object \n",
      " 5   precio_distribuidora  936 non-null    float64\n",
      " 6   precio_gnc            936 non-null    float64\n",
      " 7   precio_usina          936 non-null    float64\n",
      " 8   precio_industria      936 non-null    float64\n",
      " 9   precio_otros          936 non-null    float64\n",
      " 10  precio_ppp            936 non-null    float64\n",
      " 11  precio_expo           936 non-null    float64\n",
      " 12  indice_tiempo         936 non-null    object \n",
      "dtypes: float64(7), int64(3), object(3)\n",
      "memory usage: 95.2+ KB\n"
     ]
    }
   ],
   "source": [
    "precios_gas.info()"
   ]
  },
  {
   "cell_type": "code",
   "execution_count": 63,
   "id": "56f771fd-c7e9-4aa6-a7d1-430a664359a7",
   "metadata": {},
   "outputs": [],
   "source": [
    "precios_materiales.anio = precios_materiales.anio.astype(str)\n",
    "precios_materiales.mes = precios_materiales.mes.astype(str)"
   ]
  },
  {
   "cell_type": "code",
   "execution_count": 73,
   "id": "1338962c-e96b-4705-b956-86b66a0257f1",
   "metadata": {},
   "outputs": [],
   "source": [
    "fechas = precios_materiales.anio + '-' + precios_materiales.mes.str.zfill(2)"
   ]
  },
  {
   "cell_type": "code",
   "execution_count": 74,
   "id": "b5859091-4660-4914-af95-026c3dc1ee0c",
   "metadata": {},
   "outputs": [],
   "source": [
    "precios_materiales['indice_tiempo'] = fechas"
   ]
  },
  {
   "cell_type": "code",
   "execution_count": 75,
   "id": "a66e7032-f80d-4282-b66c-3b869b398a68",
   "metadata": {},
   "outputs": [
    {
     "data": {
      "text/html": [
       "<div>\n",
       "<style scoped>\n",
       "    .dataframe tbody tr th:only-of-type {\n",
       "        vertical-align: middle;\n",
       "    }\n",
       "\n",
       "    .dataframe tbody tr th {\n",
       "        vertical-align: top;\n",
       "    }\n",
       "\n",
       "    .dataframe thead th {\n",
       "        text-align: right;\n",
       "    }\n",
       "</style>\n",
       "<table border=\"1\" class=\"dataframe\">\n",
       "  <thead>\n",
       "    <tr style=\"text-align: right;\">\n",
       "      <th></th>\n",
       "      <th>anio</th>\n",
       "      <th>mes</th>\n",
       "      <th>id_rubro</th>\n",
       "      <th>rubro</th>\n",
       "      <th>indice</th>\n",
       "      <th>variacion_mensual</th>\n",
       "      <th>indice_tiempo</th>\n",
       "    </tr>\n",
       "  </thead>\n",
       "  <tbody>\n",
       "    <tr>\n",
       "      <th>0</th>\n",
       "      <td>2019</td>\n",
       "      <td>1</td>\n",
       "      <td>1</td>\n",
       "      <td>Asfalto</td>\n",
       "      <td>100.000000</td>\n",
       "      <td>0.000000</td>\n",
       "      <td>2019-01</td>\n",
       "    </tr>\n",
       "    <tr>\n",
       "      <th>1</th>\n",
       "      <td>2019</td>\n",
       "      <td>1</td>\n",
       "      <td>2</td>\n",
       "      <td>Cales</td>\n",
       "      <td>100.995049</td>\n",
       "      <td>0.995049</td>\n",
       "      <td>2019-01</td>\n",
       "    </tr>\n",
       "    <tr>\n",
       "      <th>2</th>\n",
       "      <td>2019</td>\n",
       "      <td>1</td>\n",
       "      <td>4</td>\n",
       "      <td>Cemento portland</td>\n",
       "      <td>102.000000</td>\n",
       "      <td>2.000000</td>\n",
       "      <td>2019-01</td>\n",
       "    </tr>\n",
       "    <tr>\n",
       "      <th>3</th>\n",
       "      <td>2019</td>\n",
       "      <td>1</td>\n",
       "      <td>8</td>\n",
       "      <td>Hierro redondo y acero para construcción</td>\n",
       "      <td>100.000000</td>\n",
       "      <td>0.000000</td>\n",
       "      <td>2019-01</td>\n",
       "    </tr>\n",
       "    <tr>\n",
       "      <th>4</th>\n",
       "      <td>2019</td>\n",
       "      <td>1</td>\n",
       "      <td>9</td>\n",
       "      <td>Hormigón elaborado</td>\n",
       "      <td>102.000000</td>\n",
       "      <td>2.000000</td>\n",
       "      <td>2019-01</td>\n",
       "    </tr>\n",
       "  </tbody>\n",
       "</table>\n",
       "</div>"
      ],
      "text/plain": [
       "   anio mes  id_rubro                                     rubro      indice  \\\n",
       "0  2019   1         1                                   Asfalto  100.000000   \n",
       "1  2019   1         2                                     Cales  100.995049   \n",
       "2  2019   1         4                          Cemento portland  102.000000   \n",
       "3  2019   1         8  Hierro redondo y acero para construcción  100.000000   \n",
       "4  2019   1         9                        Hormigón elaborado  102.000000   \n",
       "\n",
       "   variacion_mensual indice_tiempo  \n",
       "0           0.000000       2019-01  \n",
       "1           0.995049       2019-01  \n",
       "2           2.000000       2019-01  \n",
       "3           0.000000       2019-01  \n",
       "4           2.000000       2019-01  "
      ]
     },
     "execution_count": 75,
     "metadata": {},
     "output_type": "execute_result"
    }
   ],
   "source": [
    "precios_materiales.head()"
   ]
  },
  {
   "cell_type": "code",
   "execution_count": 76,
   "id": "ba5e99d8-7c35-49a4-8e0a-5a780f64956c",
   "metadata": {},
   "outputs": [
    {
     "data": {
      "text/html": [
       "<div>\n",
       "<style scoped>\n",
       "    .dataframe tbody tr th:only-of-type {\n",
       "        vertical-align: middle;\n",
       "    }\n",
       "\n",
       "    .dataframe tbody tr th {\n",
       "        vertical-align: top;\n",
       "    }\n",
       "\n",
       "    .dataframe thead th {\n",
       "        text-align: right;\n",
       "    }\n",
       "</style>\n",
       "<table border=\"1\" class=\"dataframe\">\n",
       "  <thead>\n",
       "    <tr style=\"text-align: right;\">\n",
       "      <th></th>\n",
       "      <th>id_pub</th>\n",
       "      <th>anio</th>\n",
       "      <th>mes</th>\n",
       "      <th>cuenca</th>\n",
       "      <th>contrato</th>\n",
       "      <th>precio_distribuidora</th>\n",
       "      <th>precio_gnc</th>\n",
       "      <th>precio_usina</th>\n",
       "      <th>precio_industria</th>\n",
       "      <th>precio_otros</th>\n",
       "      <th>precio_ppp</th>\n",
       "      <th>precio_expo</th>\n",
       "      <th>indice_tiempo</th>\n",
       "    </tr>\n",
       "  </thead>\n",
       "  <tbody>\n",
       "    <tr>\n",
       "      <th>0</th>\n",
       "      <td>1</td>\n",
       "      <td>2019</td>\n",
       "      <td>1</td>\n",
       "      <td>Austral Santa Cruz</td>\n",
       "      <td>FIRME</td>\n",
       "      <td>3.56</td>\n",
       "      <td>3.43</td>\n",
       "      <td>3.10</td>\n",
       "      <td>3.27</td>\n",
       "      <td>3.75</td>\n",
       "      <td>3.30</td>\n",
       "      <td>2.00</td>\n",
       "      <td>2019-01</td>\n",
       "    </tr>\n",
       "    <tr>\n",
       "      <th>1</th>\n",
       "      <td>2</td>\n",
       "      <td>2019</td>\n",
       "      <td>1</td>\n",
       "      <td>Austral Santa Cruz</td>\n",
       "      <td>INTERRUMPIBLE</td>\n",
       "      <td>3.04</td>\n",
       "      <td>3.54</td>\n",
       "      <td>2.29</td>\n",
       "      <td>2.38</td>\n",
       "      <td>0.00</td>\n",
       "      <td>2.39</td>\n",
       "      <td>3.25</td>\n",
       "      <td>2019-01</td>\n",
       "    </tr>\n",
       "    <tr>\n",
       "      <th>2</th>\n",
       "      <td>3</td>\n",
       "      <td>2019</td>\n",
       "      <td>1</td>\n",
       "      <td>Austral Santa Cruz</td>\n",
       "      <td>TOTAL</td>\n",
       "      <td>3.40</td>\n",
       "      <td>3.44</td>\n",
       "      <td>2.65</td>\n",
       "      <td>3.13</td>\n",
       "      <td>3.75</td>\n",
       "      <td>3.03</td>\n",
       "      <td>3.08</td>\n",
       "      <td>2019-01</td>\n",
       "    </tr>\n",
       "    <tr>\n",
       "      <th>3</th>\n",
       "      <td>4</td>\n",
       "      <td>2019</td>\n",
       "      <td>1</td>\n",
       "      <td>Austral Tierra del Fuego</td>\n",
       "      <td>FIRME</td>\n",
       "      <td>3.66</td>\n",
       "      <td>3.33</td>\n",
       "      <td>3.30</td>\n",
       "      <td>3.39</td>\n",
       "      <td>0.00</td>\n",
       "      <td>3.45</td>\n",
       "      <td>0.00</td>\n",
       "      <td>2019-01</td>\n",
       "    </tr>\n",
       "    <tr>\n",
       "      <th>4</th>\n",
       "      <td>5</td>\n",
       "      <td>2019</td>\n",
       "      <td>1</td>\n",
       "      <td>Austral Tierra del Fuego</td>\n",
       "      <td>INTERRUMPIBLE</td>\n",
       "      <td>3.43</td>\n",
       "      <td>0.00</td>\n",
       "      <td>2.33</td>\n",
       "      <td>2.28</td>\n",
       "      <td>0.00</td>\n",
       "      <td>2.37</td>\n",
       "      <td>3.49</td>\n",
       "      <td>2019-01</td>\n",
       "    </tr>\n",
       "  </tbody>\n",
       "</table>\n",
       "</div>"
      ],
      "text/plain": [
       "   id_pub  anio  mes                    cuenca       contrato  \\\n",
       "0       1  2019    1        Austral Santa Cruz          FIRME   \n",
       "1       2  2019    1        Austral Santa Cruz  INTERRUMPIBLE   \n",
       "2       3  2019    1        Austral Santa Cruz          TOTAL   \n",
       "3       4  2019    1  Austral Tierra del Fuego          FIRME   \n",
       "4       5  2019    1  Austral Tierra del Fuego  INTERRUMPIBLE   \n",
       "\n",
       "   precio_distribuidora  precio_gnc  precio_usina  precio_industria  \\\n",
       "0                  3.56        3.43          3.10              3.27   \n",
       "1                  3.04        3.54          2.29              2.38   \n",
       "2                  3.40        3.44          2.65              3.13   \n",
       "3                  3.66        3.33          3.30              3.39   \n",
       "4                  3.43        0.00          2.33              2.28   \n",
       "\n",
       "   precio_otros  precio_ppp  precio_expo indice_tiempo  \n",
       "0          3.75        3.30         2.00       2019-01  \n",
       "1          0.00        2.39         3.25       2019-01  \n",
       "2          3.75        3.03         3.08       2019-01  \n",
       "3          0.00        3.45         0.00       2019-01  \n",
       "4          0.00        2.37         3.49       2019-01  "
      ]
     },
     "execution_count": 76,
     "metadata": {},
     "output_type": "execute_result"
    }
   ],
   "source": [
    "precios_gas.head()"
   ]
  },
  {
   "cell_type": "code",
   "execution_count": 79,
   "id": "17e9e005-fdc6-499d-a87e-035db4142496",
   "metadata": {},
   "outputs": [],
   "source": [
    "precios = \\\n",
    "    pd.merge(\n",
    "        left=precios_gas,\n",
    "        right=precios_materiales,\n",
    "        how='inner',\n",
    "        left_on='indice_tiempo',\n",
    "        right_on='indice_tiempo'\n",
    "    )"
   ]
  },
  {
   "cell_type": "code",
   "execution_count": 83,
   "id": "353669b8-91cc-486c-824f-2ba70225ec2a",
   "metadata": {},
   "outputs": [],
   "source": [
    "precios.drop(\n",
    "    columns={\n",
    "        'anio_x',\n",
    "        'mes_x',\n",
    "        'anio_y',\n",
    "        'mes_y'\n",
    "    },\n",
    "    inplace=True\n",
    ")"
   ]
  },
  {
   "cell_type": "code",
   "execution_count": 88,
   "id": "9651b840-425a-4646-8b1c-ed47b372e422",
   "metadata": {},
   "outputs": [
    {
     "data": {
      "text/plain": [
       "Austral Santa Cruz          2652\n",
       "Austral Tierra del Fuego    2652\n",
       "Golfo de San Jorge          2652\n",
       "Neuquina                    2652\n",
       "Noroeste                    2652\n",
       "Total Cuenca                2652\n",
       "Name: cuenca, dtype: int64"
      ]
     },
     "execution_count": 88,
     "metadata": {},
     "output_type": "execute_result"
    }
   ],
   "source": [
    "precios.cuenca.value_counts()"
   ]
  },
  {
   "cell_type": "markdown",
   "id": "dece0a0f-0d33-42d4-9e55-ffba5eeb4d10",
   "metadata": {},
   "source": [
    "Separamos por cuenca para el análisis"
   ]
  },
  {
   "cell_type": "code",
   "execution_count": 99,
   "id": "0b2f3c02-0a45-4a74-90af-9f27ffa6163d",
   "metadata": {},
   "outputs": [],
   "source": [
    "santa_cruz = precios[precios.cuenca == 'Austral Santa Cruz']\n",
    "tierra_del_fuego = precios[precios.cuenca == 'Austral Tierra del Fuego']\n",
    "golfo_san_jorge = precios[precios.cuenca == 'Golfo de San Jorge']\n",
    "neuquina = precios[precios.cuenca == 'Neuquina']\n",
    "noroeste = precios[precios.cuenca == 'Noroeste']"
   ]
  },
  {
   "cell_type": "code",
   "execution_count": 129,
   "id": "74620991-4d84-4b19-a290-308c9f3d8438",
   "metadata": {},
   "outputs": [
    {
     "data": {
      "text/plain": [
       "<matplotlib.legend.Legend at 0x7f831cd66860>"
      ]
     },
     "execution_count": 129,
     "metadata": {},
     "output_type": "execute_result"
    },
    {
     "data": {
      "image/png": "[encoded data removed]",
      "text/plain": [
       "<Figure size 1000x500 with 1 Axes>"
      ]
     },
     "metadata": {},
     "output_type": "display_data"
    }
   ],
   "source": [
    "plt.figure(figsize = (10, 5))\n",
    "plt.plot(\n",
    "    precios_gas[(precios_gas.cuenca == 'Austral Santa Cruz') & (precios_gas.contrato == 'TOTAL')].indice_tiempo,\n",
    "    precios_gas[(precios_gas.cuenca == 'Austral Santa Cruz') & ((precios_gas.contrato == 'TOTAL'))].precio_gnc,\n",
    "    label='Austal Santa Cruz'\n",
    ")\n",
    "\n",
    "plt.xticks(np.arange(0, 51, 6))\n",
    "plt.ylabel('U$S / MM BTU')\n",
    "\n",
    "plt.legend()"
   ]
  },
  {
   "cell_type": "code",
   "execution_count": 117,
   "id": "00617980-e05e-47fd-9db5-1b847dfe51b1",
   "metadata": {},
   "outputs": [
    {
     "data": {
      "text/plain": [
       "(52, 13)"
      ]
     },
     "execution_count": 117,
     "metadata": {},
     "output_type": "execute_result"
    }
   ],
   "source": [
    "precios_gas[(precios_gas.cuenca == 'Austral Santa Cruz') & ((precios_gas.contrato == 'TOTAL'))].shape"
   ]
  },
  {
   "cell_type": "code",
   "execution_count": 102,
   "id": "63d873be-01ed-46cf-832a-d4e4ba97fdaa",
   "metadata": {},
   "outputs": [
    {
     "data": {
      "text/plain": [
       "0        2019-01\n",
       "1        2019-01\n",
       "2        2019-01\n",
       "3        2019-01\n",
       "4        2019-01\n",
       "          ...   \n",
       "15652    2023-04\n",
       "15653    2023-04\n",
       "15654    2023-04\n",
       "15655    2023-04\n",
       "15656    2023-04\n",
       "Name: indice_tiempo, Length: 2652, dtype: object"
      ]
     },
     "execution_count": 102,
     "metadata": {},
     "output_type": "execute_result"
    }
   ],
   "source": [
    "santa_cruz.indice_tiempo"
   ]
  }
 ],
 "metadata": {
  "kernelspec": {
   "display_name": "Python 3 (ipykernel)",
   "language": "python",
   "name": "python3"
  },
  "language_info": {
   "codemirror_mode": {
    "name": "ipython",
    "version": 3
   },
   "file_extension": ".py",
   "mimetype": "text/x-python",
   "name": "python",
   "nbconvert_exporter": "python",
   "pygments_lexer": "ipython3",
   "version": "3.10.6"
  }
 },
 "nbformat": 4,
 "nbformat_minor": 5
}
