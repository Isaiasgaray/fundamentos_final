{
 "cells": [
  {
   "cell_type": "code",
   "execution_count": 14,
   "id": "2bd1bbb3-da90-432e-8915-a4ee196db12d",
   "metadata": {},
   "outputs": [],
   "source": [
    "import datetime\n",
    "\n",
    "fecha_actual = datetime.date.today()\n",
    "un_dia       = datetime.timedelta(days=1)\n",
    "\n",
    "ANIO_INICIO = fecha_actual.year - 4\n",
    "MES_INICIO  = fecha_actual.month\n",
    "DIA_INICIO  = fecha_actual.day \n",
    "\n",
    "fecha_inicio = datetime.date(ANIO_INICIO, MES_INICIO, DIA_INICIO)"
   ]
  },
  {
   "cell_type": "code",
   "execution_count": 16,
   "id": "79a748df-ea85-44d1-9c39-b4e3eb6a55db",
   "metadata": {},
   "outputs": [],
   "source": [
    "while fecha_inicio <= fecha_actual:\n",
    "    print(fecha_inicio)\n",
    "    fecha_inicio += un_dia\n"
   ]
  }
 ],
 "metadata": {
  "kernelspec": {
   "display_name": "Python 3 (ipykernel)",
   "language": "python",
   "name": "python3"
  },
  "language_info": {
   "codemirror_mode": {
    "name": "ipython",
    "version": 3
   },
   "file_extension": ".py",
   "mimetype": "text/x-python",
   "name": "python",
   "nbconvert_exporter": "python",
   "pygments_lexer": "ipython3",
   "version": "3.10.6"
  }
 },
 "nbformat": 4,
 "nbformat_minor": 5
}
