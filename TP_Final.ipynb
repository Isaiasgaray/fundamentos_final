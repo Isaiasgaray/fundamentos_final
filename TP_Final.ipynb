{
 "cells": [
  {
   "cell_type": "markdown",
   "id": "a01136d2-53af-4ed5-abe4-4e95ceeb3f23",
   "metadata": {},
   "source": [
    "# Exploración de datos"
   ]
  },
  {
   "cell_type": "code",
   "execution_count": 1,
   "id": "6e7a4090-fc7f-4716-a3b0-29a6ae794d71",
   "metadata": {},
   "outputs": [],
   "source": [
    "import pandas as pd\n",
    "import numpy as np\n",
    "import matplotlib.pyplot as plt"
   ]
  },
  {
   "cell_type": "markdown",
   "id": "e9d0f693-ff50-46cd-a9e1-9e44096daf57",
   "metadata": {},
   "source": [
    "Los datasets se obutiveron de las siguientes fuentes:\n",
    "- [Precios gas natural](http://datos.energia.gob.ar/dataset/precios-de-gas-natural)\n",
    "- [Precios materiales](https://datosabiertos.rosario.gob.ar/dataset/%C3%ADndices-de-precios-de-materiales-de-la-construcci%C3%B3n)"
   ]
  },
  {
   "cell_type": "code",
   "execution_count": 2,
   "id": "507af2f8-f7e2-42cc-a0f4-cccb98fc0f2d",
   "metadata": {},
   "outputs": [],
   "source": [
    "precios_gas        = pd.read_csv('datasets/precios-gas-natural.csv')\n",
    "precios_materiales = pd.read_csv('datasets/precios-materiales-construccion.csv')"
   ]
  },
  {
   "cell_type": "code",
   "execution_count": 3,
   "id": "5b7d6442-3e4a-469e-9d74-c4e01de12088",
   "metadata": {},
   "outputs": [],
   "source": [
    "precios_materiales.rename(\n",
    "    columns={\n",
    "        'Año': 'anio',\n",
    "        'Mes': 'mes',\n",
    "        'id_Rubro': 'id_rubro',\n",
    "        'Rubro': 'rubro',\n",
    "        'variación mensual': 'variacion_mensual'\n",
    "    },\n",
    "    inplace=True\n",
    ")   "
   ]
  },
  {
   "cell_type": "markdown",
   "id": "cb045ce1-e855-4610-a4fa-a917c947b3e0",
   "metadata": {},
   "source": [
    "Solo se van a analizar el total de los precios, sin importar el tipo de contrato"
   ]
  },
  {
   "cell_type": "code",
   "execution_count": 16,
   "id": "32e9e06a-a23f-4f00-bd05-07ffad33ff29",
   "metadata": {},
   "outputs": [],
   "source": [
    "precios_gas = \\\n",
    "    precios_gas[precios_gas.contrato == 'TOTAL']"
   ]
  },
  {
   "cell_type": "markdown",
   "id": "79eec779-b2d7-4a58-9cc4-ea2fb07dab94",
   "metadata": {},
   "source": [
    "## Unión de los datasets"
   ]
  },
  {
   "cell_type": "code",
   "execution_count": null,
   "id": "56f771fd-c7e9-4aa6-a7d1-430a664359a7",
   "metadata": {},
   "outputs": [],
   "source": [
    "precios_materiales.anio = precios_materiales.anio.astype(str)\n",
    "precios_materiales.mes = precios_materiales.mes.astype(str)"
   ]
  },
  {
   "cell_type": "code",
   "execution_count": null,
   "id": "1338962c-e96b-4705-b956-86b66a0257f1",
   "metadata": {},
   "outputs": [],
   "source": [
    "fechas = precios_materiales.anio + '-' + precios_materiales.mes.str.zfill(2)"
   ]
  },
  {
   "cell_type": "code",
   "execution_count": null,
   "id": "b5859091-4660-4914-af95-026c3dc1ee0c",
   "metadata": {},
   "outputs": [],
   "source": [
    "precios_materiales['indice_tiempo'] = fechas"
   ]
  },
  {
   "cell_type": "code",
   "execution_count": null,
   "id": "a66e7032-f80d-4282-b66c-3b869b398a68",
   "metadata": {},
   "outputs": [],
   "source": [
    "precios_materiales.head()"
   ]
  },
  {
   "cell_type": "code",
   "execution_count": null,
   "id": "ba5e99d8-7c35-49a4-8e0a-5a780f64956c",
   "metadata": {},
   "outputs": [],
   "source": [
    "precios_gas.head()"
   ]
  },
  {
   "cell_type": "code",
   "execution_count": null,
   "id": "17e9e005-fdc6-499d-a87e-035db4142496",
   "metadata": {},
   "outputs": [],
   "source": [
    "precios = \\\n",
    "    pd.merge(\n",
    "        left=precios_gas,\n",
    "        right=precios_materiales,\n",
    "        how='inner',\n",
    "        left_on='indice_tiempo',\n",
    "        right_on='indice_tiempo'\n",
    "    )"
   ]
  },
  {
   "cell_type": "code",
   "execution_count": null,
   "id": "353669b8-91cc-486c-824f-2ba70225ec2a",
   "metadata": {},
   "outputs": [],
   "source": [
    "precios.drop(\n",
    "    columns={\n",
    "        'anio_x',\n",
    "        'mes_x',\n",
    "        'anio_y',\n",
    "        'mes_y'\n",
    "    },\n",
    "    inplace=True\n",
    ")"
   ]
  },
  {
   "cell_type": "code",
   "execution_count": null,
   "id": "9651b840-425a-4646-8b1c-ed47b372e422",
   "metadata": {},
   "outputs": [],
   "source": [
    "precios.cuenca.value_counts()"
   ]
  },
  {
   "cell_type": "markdown",
   "id": "dece0a0f-0d33-42d4-9e55-ffba5eeb4d10",
   "metadata": {},
   "source": [
    "Separamos por cuenca para el análisis"
   ]
  },
  {
   "cell_type": "code",
   "execution_count": null,
   "id": "0b2f3c02-0a45-4a74-90af-9f27ffa6163d",
   "metadata": {},
   "outputs": [],
   "source": [
    "santa_cruz = precios[precios.cuenca == 'Austral Santa Cruz']\n",
    "tierra_del_fuego = precios[precios.cuenca == 'Austral Tierra del Fuego']\n",
    "golfo_san_jorge = precios[precios.cuenca == 'Golfo de San Jorge']\n",
    "neuquina = precios[precios.cuenca == 'Neuquina']\n",
    "noroeste = precios[precios.cuenca == 'Noroeste']"
   ]
  },
  {
   "cell_type": "code",
   "execution_count": null,
   "id": "74620991-4d84-4b19-a290-308c9f3d8438",
   "metadata": {},
   "outputs": [],
   "source": [
    "plt.figure(figsize = (10, 5))\n",
    "plt.plot(\n",
    "    precios_gas[(precios_gas.cuenca == 'Austral Santa Cruz') & (precios_gas.contrato == 'TOTAL')].indice_tiempo,\n",
    "    precios_gas[(precios_gas.cuenca == 'Austral Santa Cruz') & ((precios_gas.contrato == 'TOTAL'))].precio_gnc,\n",
    "    label='Austal Santa Cruz'\n",
    ")\n",
    "\n",
    "plt.xticks(np.arange(0, 51, 6))\n",
    "plt.ylabel('U$S / MM BTU')\n",
    "\n",
    "plt.legend()"
   ]
  },
  {
   "cell_type": "code",
   "execution_count": null,
   "id": "00617980-e05e-47fd-9db5-1b847dfe51b1",
   "metadata": {},
   "outputs": [],
   "source": [
    "precios_gas[(precios_gas.cuenca == 'Austral Santa Cruz') & ((precios_gas.contrato == 'TOTAL'))].shape"
   ]
  },
  {
   "cell_type": "code",
   "execution_count": null,
   "id": "63d873be-01ed-46cf-832a-d4e4ba97fdaa",
   "metadata": {},
   "outputs": [],
   "source": [
    "santa_cruz.indice_tiempo"
   ]
  }
 ],
 "metadata": {
  "kernelspec": {
   "display_name": "Python 3 (ipykernel)",
   "language": "python",
   "name": "python3"
  },
  "language_info": {
   "codemirror_mode": {
    "name": "ipython",
    "version": 3
   },
   "file_extension": ".py",
   "mimetype": "text/x-python",
   "name": "python",
   "nbconvert_exporter": "python",
   "pygments_lexer": "ipython3",
   "version": "3.10.6"
  }
 },
 "nbformat": 4,
 "nbformat_minor": 5
}
