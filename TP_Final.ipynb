{
 "cells": [
  {
   "cell_type": "markdown",
   "id": "a01136d2-53af-4ed5-abe4-4e95ceeb3f23",
   "metadata": {},
   "source": [
    "# Exploración de datos"
   ]
  },
  {
   "cell_type": "code",
   "execution_count": 2,
   "id": "6e7a4090-fc7f-4716-a3b0-29a6ae794d71",
   "metadata": {},
   "outputs": [],
   "source": [
    "import pandas as pd\n",
    "import matplotlib.pyplot as plt"
   ]
  },
  {
   "cell_type": "code",
   "execution_count": 53,
   "id": "507af2f8-f7e2-42cc-a0f4-cccb98fc0f2d",
   "metadata": {},
   "outputs": [],
   "source": [
    "precios_gas        = pd.read_csv('datasets/precios-gas-natural.csv')\n",
    "precios_materiales = pd.read_csv('datasets/precios-materiales-construccion.csv')"
   ]
  },
  {
   "cell_type": "code",
   "execution_count": 54,
   "id": "5b7d6442-3e4a-469e-9d74-c4e01de12088",
   "metadata": {},
   "outputs": [],
   "source": [
    "precios_materiales.rename(\n",
    "    columns={\n",
    "        'Año': 'anio',\n",
    "        'Mes': 'mes',\n",
    "        'id_Rubro': 'id_rubro',\n",
    "        'Rubro': 'rubro',\n",
    "        'variación mensual': 'variacion_mensual'\n",
    "    },\n",
    "    inplace=True\n",
    ")   "
   ]
  },
  {
   "cell_type": "code",
   "execution_count": 14,
   "id": "0ae4681c-a074-4589-95e7-6980c61cc4eb",
   "metadata": {},
   "outputs": [
    {
     "name": "stdout",
     "output_type": "stream",
     "text": [
      "<class 'pandas.core.frame.DataFrame'>\n",
      "RangeIndex: 884 entries, 0 to 883\n",
      "Data columns (total 6 columns):\n",
      " #   Column             Non-Null Count  Dtype  \n",
      "---  ------             --------------  -----  \n",
      " 0   anio               884 non-null    int64  \n",
      " 1   mes                884 non-null    int64  \n",
      " 2   id_rubro           884 non-null    int64  \n",
      " 3   rubro              884 non-null    object \n",
      " 4   indice             884 non-null    float64\n",
      " 5   variacion_mensual  884 non-null    float64\n",
      "dtypes: float64(2), int64(3), object(1)\n",
      "memory usage: 41.6+ KB\n"
     ]
    }
   ],
   "source": [
    "precios_materiales.info()"
   ]
  },
  {
   "cell_type": "code",
   "execution_count": 15,
   "id": "32e9e06a-a23f-4f00-bd05-07ffad33ff29",
   "metadata": {},
   "outputs": [
    {
     "name": "stdout",
     "output_type": "stream",
     "text": [
      "<class 'pandas.core.frame.DataFrame'>\n",
      "RangeIndex: 936 entries, 0 to 935\n",
      "Data columns (total 13 columns):\n",
      " #   Column                Non-Null Count  Dtype  \n",
      "---  ------                --------------  -----  \n",
      " 0   id_pub                936 non-null    int64  \n",
      " 1   anio                  936 non-null    int64  \n",
      " 2   mes                   936 non-null    int64  \n",
      " 3   cuenca                936 non-null    object \n",
      " 4   contrato              936 non-null    object \n",
      " 5   precio_distribuidora  936 non-null    float64\n",
      " 6   precio_gnc            936 non-null    float64\n",
      " 7   precio_usina          936 non-null    float64\n",
      " 8   precio_industria      936 non-null    float64\n",
      " 9   precio_otros          936 non-null    float64\n",
      " 10  precio_ppp            936 non-null    float64\n",
      " 11  precio_expo           936 non-null    float64\n",
      " 12  indice_tiempo         936 non-null    object \n",
      "dtypes: float64(7), int64(3), object(3)\n",
      "memory usage: 95.2+ KB\n"
     ]
    }
   ],
   "source": [
    "precios_gas.info()"
   ]
  },
  {
   "cell_type": "code",
   "execution_count": 63,
   "id": "56f771fd-c7e9-4aa6-a7d1-430a664359a7",
   "metadata": {},
   "outputs": [],
   "source": [
    "precios_materiales.anio = precios_materiales.anio.astype(str)\n",
    "precios_materiales.mes = precios_materiales.mes.astype(str)"
   ]
  },
  {
   "cell_type": "code",
   "execution_count": 64,
   "id": "1338962c-e96b-4705-b956-86b66a0257f1",
   "metadata": {},
   "outputs": [],
   "source": [
    "fechas = precios_materiales.mes.str.zfill(2) + '-' +  precios_materiales.anio"
   ]
  },
  {
   "cell_type": "code",
   "execution_count": 67,
   "id": "b5859091-4660-4914-af95-026c3dc1ee0c",
   "metadata": {},
   "outputs": [],
   "source": [
    "precios_materiales['indice_tiempo'] = fechas"
   ]
  },
  {
   "cell_type": "code",
   "execution_count": 68,
   "id": "a66e7032-f80d-4282-b66c-3b869b398a68",
   "metadata": {},
   "outputs": [
    {
     "data": {
      "text/html": [
       "<div>\n",
       "<style scoped>\n",
       "    .dataframe tbody tr th:only-of-type {\n",
       "        vertical-align: middle;\n",
       "    }\n",
       "\n",
       "    .dataframe tbody tr th {\n",
       "        vertical-align: top;\n",
       "    }\n",
       "\n",
       "    .dataframe thead th {\n",
       "        text-align: right;\n",
       "    }\n",
       "</style>\n",
       "<table border=\"1\" class=\"dataframe\">\n",
       "  <thead>\n",
       "    <tr style=\"text-align: right;\">\n",
       "      <th></th>\n",
       "      <th>anio</th>\n",
       "      <th>mes</th>\n",
       "      <th>id_rubro</th>\n",
       "      <th>rubro</th>\n",
       "      <th>indice</th>\n",
       "      <th>variacion_mensual</th>\n",
       "      <th>indice_tiempo</th>\n",
       "    </tr>\n",
       "  </thead>\n",
       "  <tbody>\n",
       "    <tr>\n",
       "      <th>0</th>\n",
       "      <td>2019</td>\n",
       "      <td>1</td>\n",
       "      <td>1</td>\n",
       "      <td>Asfalto</td>\n",
       "      <td>100.000000</td>\n",
       "      <td>0.000000</td>\n",
       "      <td>01-2019</td>\n",
       "    </tr>\n",
       "    <tr>\n",
       "      <th>1</th>\n",
       "      <td>2019</td>\n",
       "      <td>1</td>\n",
       "      <td>2</td>\n",
       "      <td>Cales</td>\n",
       "      <td>100.995049</td>\n",
       "      <td>0.995049</td>\n",
       "      <td>01-2019</td>\n",
       "    </tr>\n",
       "    <tr>\n",
       "      <th>2</th>\n",
       "      <td>2019</td>\n",
       "      <td>1</td>\n",
       "      <td>4</td>\n",
       "      <td>Cemento portland</td>\n",
       "      <td>102.000000</td>\n",
       "      <td>2.000000</td>\n",
       "      <td>01-2019</td>\n",
       "    </tr>\n",
       "    <tr>\n",
       "      <th>3</th>\n",
       "      <td>2019</td>\n",
       "      <td>1</td>\n",
       "      <td>8</td>\n",
       "      <td>Hierro redondo y acero para construcción</td>\n",
       "      <td>100.000000</td>\n",
       "      <td>0.000000</td>\n",
       "      <td>01-2019</td>\n",
       "    </tr>\n",
       "    <tr>\n",
       "      <th>4</th>\n",
       "      <td>2019</td>\n",
       "      <td>1</td>\n",
       "      <td>9</td>\n",
       "      <td>Hormigón elaborado</td>\n",
       "      <td>102.000000</td>\n",
       "      <td>2.000000</td>\n",
       "      <td>01-2019</td>\n",
       "    </tr>\n",
       "    <tr>\n",
       "      <th>...</th>\n",
       "      <td>...</td>\n",
       "      <td>...</td>\n",
       "      <td>...</td>\n",
       "      <td>...</td>\n",
       "      <td>...</td>\n",
       "      <td>...</td>\n",
       "      <td>...</td>\n",
       "    </tr>\n",
       "    <tr>\n",
       "      <th>879</th>\n",
       "      <td>2023</td>\n",
       "      <td>4</td>\n",
       "      <td>16</td>\n",
       "      <td>Tubos estructurales</td>\n",
       "      <td>1109.848776</td>\n",
       "      <td>6.000000</td>\n",
       "      <td>04-2023</td>\n",
       "    </tr>\n",
       "    <tr>\n",
       "      <th>880</th>\n",
       "      <td>2023</td>\n",
       "      <td>4</td>\n",
       "      <td>3</td>\n",
       "      <td>Caños de PVC</td>\n",
       "      <td>1144.831673</td>\n",
       "      <td>6.332291</td>\n",
       "      <td>04-2023</td>\n",
       "    </tr>\n",
       "    <tr>\n",
       "      <th>881</th>\n",
       "      <td>2023</td>\n",
       "      <td>4</td>\n",
       "      <td>5</td>\n",
       "      <td>Chapas galvanizadas</td>\n",
       "      <td>1121.457289</td>\n",
       "      <td>3.000000</td>\n",
       "      <td>04-2023</td>\n",
       "    </tr>\n",
       "    <tr>\n",
       "      <th>882</th>\n",
       "      <td>2023</td>\n",
       "      <td>4</td>\n",
       "      <td>7</td>\n",
       "      <td>Hierro fundido</td>\n",
       "      <td>1249.861311</td>\n",
       "      <td>8.802437</td>\n",
       "      <td>04-2023</td>\n",
       "    </tr>\n",
       "    <tr>\n",
       "      <th>883</th>\n",
       "      <td>2023</td>\n",
       "      <td>4</td>\n",
       "      <td>6</td>\n",
       "      <td>Conductores de cobre</td>\n",
       "      <td>1403.832381</td>\n",
       "      <td>6.596635</td>\n",
       "      <td>04-2023</td>\n",
       "    </tr>\n",
       "  </tbody>\n",
       "</table>\n",
       "<p>884 rows × 7 columns</p>\n",
       "</div>"
      ],
      "text/plain": [
       "     anio mes  id_rubro                                     rubro  \\\n",
       "0    2019   1         1                                   Asfalto   \n",
       "1    2019   1         2                                     Cales   \n",
       "2    2019   1         4                          Cemento portland   \n",
       "3    2019   1         8  Hierro redondo y acero para construcción   \n",
       "4    2019   1         9                        Hormigón elaborado   \n",
       "..    ...  ..       ...                                       ...   \n",
       "879  2023   4        16                       Tubos estructurales   \n",
       "880  2023   4         3                              Caños de PVC   \n",
       "881  2023   4         5                       Chapas galvanizadas   \n",
       "882  2023   4         7                            Hierro fundido   \n",
       "883  2023   4         6                      Conductores de cobre   \n",
       "\n",
       "          indice  variacion_mensual indice_tiempo  \n",
       "0     100.000000           0.000000       01-2019  \n",
       "1     100.995049           0.995049       01-2019  \n",
       "2     102.000000           2.000000       01-2019  \n",
       "3     100.000000           0.000000       01-2019  \n",
       "4     102.000000           2.000000       01-2019  \n",
       "..           ...                ...           ...  \n",
       "879  1109.848776           6.000000       04-2023  \n",
       "880  1144.831673           6.332291       04-2023  \n",
       "881  1121.457289           3.000000       04-2023  \n",
       "882  1249.861311           8.802437       04-2023  \n",
       "883  1403.832381           6.596635       04-2023  \n",
       "\n",
       "[884 rows x 7 columns]"
      ]
     },
     "execution_count": 68,
     "metadata": {},
     "output_type": "execute_result"
    }
   ],
   "source": [
    "precios_materiales"
   ]
  }
 ],
 "metadata": {
  "kernelspec": {
   "display_name": "Python 3 (ipykernel)",
   "language": "python",
   "name": "python3"
  },
  "language_info": {
   "codemirror_mode": {
    "name": "ipython",
    "version": 3
   },
   "file_extension": ".py",
   "mimetype": "text/x-python",
   "name": "python",
   "nbconvert_exporter": "python",
   "pygments_lexer": "ipython3",
   "version": "3.10.6"
  }
 },
 "nbformat": 4,
 "nbformat_minor": 5
}
