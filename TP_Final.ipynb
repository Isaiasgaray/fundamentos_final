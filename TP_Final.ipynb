{
 "cells": [
  {
   "cell_type": "code",
   "execution_count": 23,
   "id": "2bd1bbb3-da90-432e-8915-a4ee196db12d",
   "metadata": {},
   "outputs": [],
   "source": [
    "import datetime, requests\n",
    "\n",
    "fecha_actual = datetime.date.today()\n",
    "un_dia       = datetime.timedelta(days=1)\n",
    "\n",
    "ANIO_INICIO = fecha_actual.year - 4\n",
    "MES_INICIO  = fecha_actual.month\n",
    "DIA_INICIO  = fecha_actual.day \n",
    "\n",
    "fecha_inicio = datetime.date(ANIO_INICIO, MES_INICIO, DIA_INICIO)"
   ]
  },
  {
   "cell_type": "code",
   "execution_count": 24,
   "id": "f4a3dfeb-6234-4d9f-8a8f-9a55c41fe874",
   "metadata": {},
   "outputs": [
    {
     "name": "stdout",
     "output_type": "stream",
     "text": [
      "False\n"
     ]
    }
   ],
   "source": [
    "URL_BASE = 'https://ssl.smn.gob.ar/dpd/descarga_opendata.php?file=observaciones/' \n",
    "\n",
    "resultados = list()\n",
    "\n",
    "while fecha_inicio <= fecha_actual:\n",
    "    resultados.append('El archivo no existe.' in requests.get(\n",
    "        URL_BASE + \n",
    "        f'datohorario{fecha_inicio.year}{fecha_inicio.month:02}{fecha_inicio.day:02}'))\n",
    "    fecha_inicio += un_dia\n",
    "\n",
    "print(any(resultados))"
   ]
  },
  {
   "cell_type": "markdown",
   "id": "24c0fa9c-af72-470a-aee9-cec846fd7a35",
   "metadata": {},
   "source": [
    "# TODO"
   ]
  },
  {
   "cell_type": "code",
   "execution_count": null,
   "id": "1e0e5aed-eb64-47af-9e68-cc8f1e8ac701",
   "metadata": {},
   "outputs": [],
   "source": [
    "for line in r.iter_lines(decode_unicode='utf8'):\n",
    "    if line.startswith(('F', ' ')):\n",
    "        continue\n",
    "    print(line)"
   ]
  },
  {
   "cell_type": "code",
   "execution_count": null,
   "id": "d3eff0c9-7d47-466b-90a4-e80f2b08919f",
   "metadata": {},
   "outputs": [],
   "source": [
    "with open('datest.csv', 'w') as f:\n",
    "    for line in r.iter_lines(decode_unicode='utf8'):\n",
    "        if line.startswith(('F', ' ')):\n",
    "            continue\n",
    "        f.write(','.join(f'{line.strip()}\\n').split(maxsplit=7))"
   ]
  }
 ],
 "metadata": {
  "kernelspec": {
   "display_name": "Python 3 (ipykernel)",
   "language": "python",
   "name": "python3"
  },
  "language_info": {
   "codemirror_mode": {
    "name": "ipython",
    "version": 3
   },
   "file_extension": ".py",
   "mimetype": "text/x-python",
   "name": "python",
   "nbconvert_exporter": "python",
   "pygments_lexer": "ipython3",
   "version": "3.10.6"
  }
 },
 "nbformat": 4,
 "nbformat_minor": 5
}
